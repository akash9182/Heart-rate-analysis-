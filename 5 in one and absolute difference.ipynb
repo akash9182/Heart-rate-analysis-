{
 "cells": [
  {
   "cell_type": "code",
   "execution_count": 15,
   "metadata": {
    "collapsed": false,
    "deletable": true,
    "editable": true
   },
   "outputs": [],
   "source": [
    "import os\n",
    "import matplotlib as mpl\n",
    "import numpy as np\n",
    "import matplotlib.pyplot as plt\n",
    "# import matplotlib.cbook as cbook\n",
    "import pandas as pd\n",
    "import plotly.plotly as py\n",
    "import plotly.graph_objs as go\n",
    "py.sign_in('Akash__rana', 'hG77i5HTxFyImhc7ft26')\n",
    "import datetime\n",
    "\n",
    "path = os.getcwd()\n",
    "\n",
    "# print(path)\n",
    "\n",
    "akash = pd.read_csv(path + '/AKASHDB/MI_BAND_ACTIVITY_SAMPLE_CSV.csv')\n",
    "\n",
    "akash.drop(['DEVICE_ID', 'USER_ID','STEPS', 'RAW_KIND', 'RAW_INTENSITY'],1,inplace=True)\n",
    "akash['HEART_RATE'].replace(to_replace=0, method='ffill', inplace=True)\n",
    "akash['new_col'] = range(1, len(akash) + 1)\n",
    "\n",
    "pallavi = pd.read_csv(path +'/PALLAVIDB/MI_BAND_ACTIVITY_SAMPLE_csv.csv')\n",
    "pallavi.drop(['DEVICE_ID', 'USER_ID','STEPS', 'RAW_KIND', 'RAW_INTENSITY'],1,inplace=True)\n",
    "pallavi['HEART_RATE'].replace(to_replace=0, method='ffill', inplace=True)\n",
    "pallavi['new_col'] = range(1, len(pallavi) + 1)\n",
    "\n",
    "sourabh = pd.read_csv(path + '/SOURABHDB/MI_BAND_ACTIVITY_SAMPLE_csv.csv')\n",
    "sourabh.drop(['DEVICE_ID', 'USER_ID','STEPS', 'RAW_KIND', 'RAW_INTENSITY'],1,inplace=True)\n",
    "sourabh['HEART_RATE'].replace(to_replace=0, method='ffill', inplace=True)\n",
    "sourabh['new_col'] = range(1, len(sourabh) + 1)\n",
    "\n",
    "sudip = pd.read_csv(path + '/SUDIPDB/MI_BAND_ACTIVITY_SAMPLE_csv.csv')\n",
    "sudip.drop(['DEVICE_ID', 'USER_ID','STEPS', 'RAW_KIND', 'RAW_INTENSITY'],1,inplace=True)\n",
    "sudip['HEART_RATE'].replace(to_replace=0, method='ffill', inplace=True)\n",
    "sudip['new_col'] = range(1, len(sudip) + 1)\n",
    "\n",
    "# print(akash.keys())\n",
    "# print(sudip)\n",
    "# print(akash.dtypes)"
   ]
  },
  {
   "cell_type": "code",
   "execution_count": 16,
   "metadata": {
    "collapsed": false,
    "deletable": true,
    "editable": true
   },
   "outputs": [
    {
     "name": "stdout",
     "output_type": "stream",
     "text": [
      "High five! You successfuly sent some data to your account on plotly. View your plot in your browser at https://plot.ly/~Akash__rana/0 or inside your plot.ly account where it is named 'simple-plot-from-csv'\n"
     ]
    },
    {
     "data": {
      "text/html": [
       "<iframe id=\"igraph\" scrolling=\"no\" style=\"border:none;\" seamless=\"seamless\" src=\"https://plot.ly/~Akash__rana/0.embed\" height=\"525px\" width=\"100%\"></iframe>"
      ],
      "text/plain": [
       "<plotly.tools.PlotlyDisplay object>"
      ]
     },
     "execution_count": 16,
     "metadata": {},
     "output_type": "execute_result"
    }
   ],
   "source": [
    "trace1 = go.Scatter(\n",
    "                    x=akash['new_col'], y=akash['HEART_RATE'], # Data\n",
    "                    mode='lines', name='akash' # Additional options\n",
    "                   )\n",
    "trace2 = go.Scatter(\n",
    "                    x=pallavi['new_col'], y=pallavi['HEART_RATE'], # Data\n",
    "                    mode='lines', name='pallavi' # Additional options\n",
    "                    )\n",
    "\n",
    "  \n",
    "trace3 = go.Scatter(\n",
    "                    x=sourabh['new_col'], y=sourabh['HEART_RATE'], # Data\n",
    "                    mode='lines', name='sourabh' # Additional options\n",
    "                    )\n",
    "\n",
    "trace4 = go.Scatter(\n",
    "                    x=sudip['new_col'], y=sudip['HEART_RATE'], # Data\n",
    "                    mode='lines', name='sudip' # Additional options\n",
    "                    )\n",
    "\n",
    "layout = go.Layout(title='Simple Plot of Heartrate vs Time',xaxis=dict(title='TimeStamp every 15 seconds'),\n",
    "                   yaxis=dict(title='Stress'),\n",
    "                   plot_bgcolor='rgb(230, 230,230)')\n",
    "\n",
    "fig = go.Figure(data=[trace1, trace2,trace3,trace4], layout=layout)\n",
    "\n",
    "# Plot data in the notebook\n",
    "py.iplot(fig, filename='simple-plot-from-csv')"
   ]
  },
  {
   "cell_type": "code",
   "execution_count": 17,
   "metadata": {
    "collapsed": false,
    "deletable": true,
    "editable": true
   },
   "outputs": [
    {
     "name": "stdout",
     "output_type": "stream",
     "text": [
      "High five! You successfuly sent some data to your account on plotly. View your plot in your browser at https://plot.ly/~Akash__rana/0 or inside your plot.ly account where it is named 'simple-plot-from-csv'\n"
     ]
    },
    {
     "data": {
      "text/html": [
       "<iframe id=\"igraph\" scrolling=\"no\" style=\"border:none;\" seamless=\"seamless\" src=\"https://plot.ly/~Akash__rana/0.embed\" height=\"525px\" width=\"100%\"></iframe>"
      ],
      "text/plain": [
       "<plotly.tools.PlotlyDisplay object>"
      ]
     },
     "execution_count": 17,
     "metadata": {},
     "output_type": "execute_result"
    }
   ],
   "source": [
    "akash['difference'] = abs(akash['HEART_RATE'] - akash['HEART_RATE'].shift(-1))\n",
    "trace1 = go.Scatter(\n",
    "                    x=akash['new_col'], y=akash['difference'], # Data\n",
    "                    mode='lines', name='akash' # Additional options\n",
    "                   )\n",
    "\n",
    "layout = go.Layout(title='Simple Plot of Heartrate vs Time',xaxis=dict(title='TimeStamp every 15 seconds'),\n",
    "                   yaxis=dict(title='Difference between consecutive heartrates'),\n",
    "                   plot_bgcolor='rgb(230, 230,230)')\n",
    "\n",
    "fig = go.Figure(data=[trace1], layout=layout)\n",
    "\n",
    "# Plot data in the notebook\n",
    "py.iplot(fig, filename='simple-plot-from-csv')"
   ]
  },
  {
   "cell_type": "code",
   "execution_count": 18,
   "metadata": {
    "collapsed": false,
    "deletable": true,
    "editable": true
   },
   "outputs": [
    {
     "name": "stdout",
     "output_type": "stream",
     "text": [
      "High five! You successfuly sent some data to your account on plotly. View your plot in your browser at https://plot.ly/~Akash__rana/0 or inside your plot.ly account where it is named 'simple-plot-from-csv'\n"
     ]
    },
    {
     "data": {
      "text/html": [
       "<iframe id=\"igraph\" scrolling=\"no\" style=\"border:none;\" seamless=\"seamless\" src=\"https://plot.ly/~Akash__rana/0.embed\" height=\"525px\" width=\"100%\"></iframe>"
      ],
      "text/plain": [
       "<plotly.tools.PlotlyDisplay object>"
      ]
     },
     "execution_count": 18,
     "metadata": {},
     "output_type": "execute_result"
    }
   ],
   "source": [
    "pallavi['difference'] = abs(pallavi['HEART_RATE'] - pallavi['HEART_RATE'].shift(-1))\n",
    "trace1 = go.Scatter(\n",
    "                    x=pallavi['new_col'], y=pallavi['difference'], # Data\n",
    "                    mode='lines', name='pallavi' # Additional options\n",
    "                   )\n",
    "\n",
    "layout = go.Layout(title='Simple Plot of Heartrate vs Time',xaxis=dict(title='TimeStamp every 15 seconds'),\n",
    "                   yaxis=dict(title='Difference between consecutive heartrates'),\n",
    "                   plot_bgcolor='rgb(230, 230,230)')\n",
    "\n",
    "fig = go.Figure(data=[trace1], layout=layout)\n",
    "\n",
    "# Plot data in the notebook\n",
    "py.iplot(fig, filename='simple-plot-from-csv')"
   ]
  },
  {
   "cell_type": "code",
   "execution_count": 19,
   "metadata": {
    "collapsed": false,
    "deletable": true,
    "editable": true
   },
   "outputs": [
    {
     "name": "stdout",
     "output_type": "stream",
     "text": [
      "High five! You successfuly sent some data to your account on plotly. View your plot in your browser at https://plot.ly/~Akash__rana/0 or inside your plot.ly account where it is named 'simple-plot-from-csv'\n"
     ]
    },
    {
     "data": {
      "text/html": [
       "<iframe id=\"igraph\" scrolling=\"no\" style=\"border:none;\" seamless=\"seamless\" src=\"https://plot.ly/~Akash__rana/0.embed\" height=\"525px\" width=\"100%\"></iframe>"
      ],
      "text/plain": [
       "<plotly.tools.PlotlyDisplay object>"
      ]
     },
     "execution_count": 19,
     "metadata": {},
     "output_type": "execute_result"
    }
   ],
   "source": [
    "sourabh['difference'] = abs(sourabh['HEART_RATE'] - sourabh['HEART_RATE'].shift(-1))\n",
    "trace1 = go.Scatter(\n",
    "                    x=sourabh['new_col'], y=sourabh['difference'], # Data\n",
    "                    mode='lines', name='sourabh' # Additional options\n",
    "                   )\n",
    "\n",
    "layout = go.Layout(title='Simple Plot of Heartrate vs Time',xaxis=dict(title='TimeStamp every 15 seconds'),\n",
    "                   yaxis=dict(title='Difference between consecutive heartrates'),\n",
    "                   plot_bgcolor='rgb(230, 230,230)')\n",
    "\n",
    "fig = go.Figure(data=[trace1], layout=layout)\n",
    "\n",
    "# Plot data in the notebook\n",
    "py.iplot(fig, filename='simple-plot-from-csv')"
   ]
  },
  {
   "cell_type": "code",
   "execution_count": 20,
   "metadata": {
    "collapsed": false,
    "deletable": true,
    "editable": true
   },
   "outputs": [
    {
     "name": "stdout",
     "output_type": "stream",
     "text": [
      "High five! You successfuly sent some data to your account on plotly. View your plot in your browser at https://plot.ly/~Akash__rana/0 or inside your plot.ly account where it is named 'simple-plot-from-csv'\n"
     ]
    },
    {
     "data": {
      "text/html": [
       "<iframe id=\"igraph\" scrolling=\"no\" style=\"border:none;\" seamless=\"seamless\" src=\"https://plot.ly/~Akash__rana/0.embed\" height=\"525px\" width=\"100%\"></iframe>"
      ],
      "text/plain": [
       "<plotly.tools.PlotlyDisplay object>"
      ]
     },
     "execution_count": 20,
     "metadata": {},
     "output_type": "execute_result"
    }
   ],
   "source": [
    "sudip['difference'] = abs(sudip['HEART_RATE'] - sudip['HEART_RATE'].shift(-1))\n",
    "trace1 = go.Scatter(\n",
    "                    x=sudip['new_col'], y=sudip['difference'], # Data\n",
    "                    mode='lines', name='sudip' # Additional options\n",
    "                   )\n",
    "\n",
    "layout = go.Layout(title='Simple Plot of Heartrate vs Time',xaxis=dict(title='TimeStamp every 15 seconds'),\n",
    "                   yaxis=dict(title='Difference between consecutive heartrates'),\n",
    "                   plot_bgcolor='rgb(230, 230,230)')\n",
    "\n",
    "fig = go.Figure(data=[trace1], layout=layout)\n",
    "\n",
    "# Plot data in the notebook\n",
    "py.iplot(fig, filename='simple-plot-from-csv')"
   ]
  },
  {
   "cell_type": "code",
   "execution_count": 26,
   "metadata": {
    "collapsed": false
   },
   "outputs": [
    {
     "name": "stdout",
     "output_type": "stream",
     "text": [
      "93.4074074074074\n",
      "    TIMESTAMP  HEART_RATE  new_col  difference       MEAN\n",
      "0  1485012240          99        1        29.0  93.407407\n",
      "1  1485012271          70        2        28.0  93.407407\n",
      "2  1485012280          98        3        17.0  93.407407\n",
      "3  1485012295          81        4        21.0  93.407407\n",
      "4  1485012311         102        5         1.0  93.407407\n"
     ]
    }
   ],
   "source": []
  },
  {
   "cell_type": "code",
   "execution_count": 27,
   "metadata": {
    "collapsed": false
   },
   "outputs": [
    {
     "name": "stdout",
     "output_type": "stream",
     "text": [
      "High five! You successfuly sent some data to your account on plotly. View your plot in your browser at https://plot.ly/~Akash__rana/0 or inside your plot.ly account where it is named 'simple-plot-from-csv'\n"
     ]
    },
    {
     "data": {
      "text/html": [
       "<iframe id=\"igraph\" scrolling=\"no\" style=\"border:none;\" seamless=\"seamless\" src=\"https://plot.ly/~Akash__rana/0.embed\" height=\"525px\" width=\"100%\"></iframe>"
      ],
      "text/plain": [
       "<plotly.tools.PlotlyDisplay object>"
      ]
     },
     "execution_count": 27,
     "metadata": {},
     "output_type": "execute_result"
    }
   ],
   "source": [
    "akash['MEAN'] = akash['HEART_RATE'].mean()\n",
    "trace1 = go.Scatter(\n",
    "                    x=akash['new_col'], y=akash['HEART_RATE'], # Data\n",
    "                    mode='lines', name='akash' # Additional options\n",
    "                   )\n",
    "Mean = go.Scatter(\n",
    "                    x=akash['new_col'], y=akash['MEAN'],\n",
    "                    mode='lines', name='Mean'\n",
    "                   )\n",
    "\n",
    "layout = go.Layout(title='Simple Plot of Heartrate vs Time',xaxis=dict(title='TimeStamp every 15 seconds'),\n",
    "                   yaxis=dict(title='Stress'),\n",
    "                   plot_bgcolor='rgb(230, 230,230)')\n",
    "\n",
    "fig = go.Figure(data=[trace1, Mean], layout=layout)\n",
    "\n",
    "# Plot data in the notebook\n",
    "py.iplot(fig, filename='simple-plot-from-csv')"
   ]
  },
  {
   "cell_type": "code",
   "execution_count": 28,
   "metadata": {
    "collapsed": false
   },
   "outputs": [
    {
     "name": "stdout",
     "output_type": "stream",
     "text": [
      "High five! You successfuly sent some data to your account on plotly. View your plot in your browser at https://plot.ly/~Akash__rana/0 or inside your plot.ly account where it is named 'simple-plot-from-csv'\n"
     ]
    },
    {
     "data": {
      "text/html": [
       "<iframe id=\"igraph\" scrolling=\"no\" style=\"border:none;\" seamless=\"seamless\" src=\"https://plot.ly/~Akash__rana/0.embed\" height=\"525px\" width=\"100%\"></iframe>"
      ],
      "text/plain": [
       "<plotly.tools.PlotlyDisplay object>"
      ]
     },
     "execution_count": 28,
     "metadata": {},
     "output_type": "execute_result"
    }
   ],
   "source": [
    "pallavi['MEAN'] = pallavi['HEART_RATE'].mean()\n",
    "trace1 = go.Scatter(\n",
    "                    x=pallavi['new_col'], y=pallavi['HEART_RATE'], # Data\n",
    "                    mode='lines', name='pallavi' # Additional options\n",
    "                   )\n",
    "Mean = go.Scatter(\n",
    "                    x=pallavi['new_col'], y=pallavi['MEAN'],\n",
    "                    mode='lines', name='Mean'\n",
    "                   )\n",
    "\n",
    "layout = go.Layout(title='Simple Plot of Heartrate vs Time',xaxis=dict(title='TimeStamp every 15 seconds'),\n",
    "                   yaxis=dict(title='Stress'),\n",
    "                   plot_bgcolor='rgb(230, 230,230)')\n",
    "\n",
    "fig = go.Figure(data=[trace1, Mean], layout=layout)\n",
    "\n",
    "# Plot data in the notebook\n",
    "py.iplot(fig, filename='simple-plot-from-csv')"
   ]
  },
  {
   "cell_type": "code",
   "execution_count": 29,
   "metadata": {
    "collapsed": false
   },
   "outputs": [
    {
     "name": "stdout",
     "output_type": "stream",
     "text": [
      "High five! You successfuly sent some data to your account on plotly. View your plot in your browser at https://plot.ly/~Akash__rana/0 or inside your plot.ly account where it is named 'simple-plot-from-csv'\n"
     ]
    },
    {
     "data": {
      "text/html": [
       "<iframe id=\"igraph\" scrolling=\"no\" style=\"border:none;\" seamless=\"seamless\" src=\"https://plot.ly/~Akash__rana/0.embed\" height=\"525px\" width=\"100%\"></iframe>"
      ],
      "text/plain": [
       "<plotly.tools.PlotlyDisplay object>"
      ]
     },
     "execution_count": 29,
     "metadata": {},
     "output_type": "execute_result"
    }
   ],
   "source": [
    "sourabh['MEAN'] = sourabh['HEART_RATE'].mean()\n",
    "trace1 = go.Scatter(\n",
    "                    x=sourabh['new_col'], y=sourabh['HEART_RATE'], # Data\n",
    "                    mode='lines', name='sourabh' # Additional options\n",
    "                   )\n",
    "Mean = go.Scatter(\n",
    "                    x=sourabh['new_col'], y=sourabh['MEAN'],\n",
    "                    mode='lines', name='Mean'\n",
    "                   )\n",
    "\n",
    "layout = go.Layout(title='Simple Plot of Heartrate vs Time',xaxis=dict(title='TimeStamp every 15 seconds'),\n",
    "                   yaxis=dict(title='Stress'),\n",
    "                   plot_bgcolor='rgb(230, 230,230)')\n",
    "\n",
    "fig = go.Figure(data=[trace1, Mean], layout=layout)\n",
    "\n",
    "# Plot data in the notebook\n",
    "py.iplot(fig, filename='simple-plot-from-csv')"
   ]
  },
  {
   "cell_type": "code",
   "execution_count": 30,
   "metadata": {
    "collapsed": false
   },
   "outputs": [
    {
     "name": "stdout",
     "output_type": "stream",
     "text": [
      "High five! You successfuly sent some data to your account on plotly. View your plot in your browser at https://plot.ly/~Akash__rana/0 or inside your plot.ly account where it is named 'simple-plot-from-csv'\n"
     ]
    },
    {
     "data": {
      "text/html": [
       "<iframe id=\"igraph\" scrolling=\"no\" style=\"border:none;\" seamless=\"seamless\" src=\"https://plot.ly/~Akash__rana/0.embed\" height=\"525px\" width=\"100%\"></iframe>"
      ],
      "text/plain": [
       "<plotly.tools.PlotlyDisplay object>"
      ]
     },
     "execution_count": 30,
     "metadata": {},
     "output_type": "execute_result"
    }
   ],
   "source": [
    "sudip['MEAN'] = sudip['HEART_RATE'].mean()\n",
    "trace1 = go.Scatter(\n",
    "                    x=sudip['new_col'], y=sudip['HEART_RATE'], # Data\n",
    "                    mode='lines', name='sudip' # Additional options\n",
    "                   )\n",
    "Mean = go.Scatter(\n",
    "                    x=sudip['new_col'], y=sudip['MEAN'],\n",
    "                    mode='lines', name='Mean'\n",
    "                   )\n",
    "\n",
    "layout = go.Layout(title='Simple Plot of Heartrate vs Time',xaxis=dict(title='TimeStamp every 15 seconds'),\n",
    "                   yaxis=dict(title='Stress'),\n",
    "                   plot_bgcolor='rgb(230, 230,230)')\n",
    "\n",
    "fig = go.Figure(data=[trace1, Mean], layout=layout)\n",
    "\n",
    "# Plot data in the notebook\n",
    "py.iplot(fig, filename='simple-plot-from-csv')"
   ]
  }
 ],
 "metadata": {
  "anaconda-cloud": {},
  "kernelspec": {
   "display_name": "Python [conda root]",
   "language": "python",
   "name": "conda-root-py"
  },
  "language_info": {
   "codemirror_mode": {
    "name": "ipython",
    "version": 3
   },
   "file_extension": ".py",
   "mimetype": "text/x-python",
   "name": "python",
   "nbconvert_exporter": "python",
   "pygments_lexer": "ipython3",
   "version": "3.5.2"
  }
 },
 "nbformat": 4,
 "nbformat_minor": 1
}
