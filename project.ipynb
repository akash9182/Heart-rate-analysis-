{
 "cells": [
  {
   "cell_type": "code",
   "execution_count": 5,
   "metadata": {
    "collapsed": false
   },
   "outputs": [
    {
     "name": "stdout",
     "output_type": "stream",
     "text": [
      "    TIMESTAMP  HEART_RATE\n",
      "0  1485012240          99\n",
      "1  1485012271          70\n",
      "2  1485012280          98\n",
      "3  1485012295          81\n",
      "4  1485012311         102\n",
      "Index(['TIMESTAMP', 'HEART_RATE'], dtype='object')\n"
     ]
    }
   ],
   "source": [
    "import matplotlib as mpl\n",
    "import numpy as np\n",
    "import os\n",
    "import matplotlib.pyplot as plt\n",
    "# import matplotlib.cbook as cbook\n",
    "import pandas as pd\n",
    "import plotly.plotly as py\n",
    "import plotly.graph_objs as go\n",
    "py.sign_in('Akash__rana', 'hG77i5HTxFyImhc7ft26')\n",
    "import datetime\n",
    "\n",
    "def read_datafile(file_name):\n",
    "    # the skiprows keyword is for heading, but I don't know if trailing lines\n",
    "    # can be specified\n",
    "    data = np.loadtxt(file_name, delimiter=',',skiprows= 0 )\n",
    "    return data\n",
    "\n",
    "path = os.getcwd()\n",
    "data = pd.read_csv(path + '/AKASHDB/MI_BAND_ACTIVITY_SAMPLE_CSV.csv')\n",
    "# data.head()\n",
    "# x = \n",
    "# y = \n",
    "\n",
    "# fig = plt.figure()\n",
    "\n",
    "# ax1 = fig.add_subplot(111)\n",
    "\n",
    "# ax1.set_title(\"Heartrate vs time\")    \n",
    "# ax1.set_xlabel('time')\n",
    "# ax1.set_ylabel('Heartrate')\n",
    "\n",
    "# ax1.plot(x,y, c='r', label='the data')\n",
    "\n",
    "# leg = ax1.legend()\n",
    "\n",
    "# plt.show()\n",
    "# print(type(data))\n",
    "data.drop(['DEVICE_ID', 'USER_ID','STEPS', 'RAW_KIND', 'RAW_INTENSITY'],1,inplace=True)\n",
    "print(data.head())\n",
    "print(data.keys())\n",
    "# print(data.HEART_RATE)\n",
    "# print(\"average heart rate is: \" + str(data.HEART_RATE.mean()))"
   ]
  },
  {
   "cell_type": "code",
   "execution_count": 19,
   "metadata": {
    "collapsed": false
   },
   "outputs": [
    {
     "name": "stdout",
     "output_type": "stream",
     "text": [
      "High five! You successfuly sent some data to your account on plotly. View your plot in your browser at https://plot.ly/~Akash__rana/0 or inside your plot.ly account where it is named 'simple-plot-from-csv'\n"
     ]
    },
    {
     "data": {
      "text/html": [
       "<iframe id=\"igraph\" scrolling=\"no\" style=\"border:none;\" seamless=\"seamless\" src=\"https://plot.ly/~Akash__rana/0.embed\" height=\"525px\" width=\"100%\"></iframe>"
      ],
      "text/plain": [
       "<plotly.tools.PlotlyDisplay object>"
      ]
     },
     "execution_count": 19,
     "metadata": {},
     "output_type": "execute_result"
    }
   ],
   "source": [
    "\n",
    "trace1 = go.Scatter(\n",
    "                    x=data['TIMESTAMP'], y=data['HEART_RATE'], # Data\n",
    "                    mode='lines', name='anger' # Additional options\n",
    "                   )\n",
    "layout = go.Layout(title='Simple Plot of Heartrate vs Time',xaxis=dict(title='TimeStamp every 15 seconds'),\n",
    "                   yaxis=dict(title='Stress'),\n",
    "                   plot_bgcolor='rgb(230, 230,230)')\n",
    "\n",
    "fig = go.Figure(data=[trace1], layout=layout)\n",
    "\n",
    "# Plot data in the notebook\n",
    "py.iplot(fig, filename='simple-plot-from-csv')"
   ]
  },
  {
   "cell_type": "code",
   "execution_count": null,
   "metadata": {
    "collapsed": true
   },
   "outputs": [],
   "source": []
  }
 ],
 "metadata": {
  "anaconda-cloud": {},
  "kernelspec": {
   "display_name": "Python [conda root]",
   "language": "python",
   "name": "conda-root-py"
  },
  "language_info": {
   "codemirror_mode": {
    "name": "ipython",
    "version": 3
   },
   "file_extension": ".py",
   "mimetype": "text/x-python",
   "name": "python",
   "nbconvert_exporter": "python",
   "pygments_lexer": "ipython3",
   "version": "3.5.2"
  }
 },
 "nbformat": 4,
 "nbformat_minor": 1
}
