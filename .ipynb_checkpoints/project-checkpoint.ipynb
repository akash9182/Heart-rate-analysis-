{
 "cells": [
  {
   "cell_type": "code",
   "execution_count": 1,
   "metadata": {
    "collapsed": false
   },
   "outputs": [
    {
     "data": {
      "text/html": [
       "<div>\n",
       "<table border=\"1\" class=\"dataframe\">\n",
       "  <thead>\n",
       "    <tr style=\"text-align: right;\">\n",
       "      <th></th>\n",
       "      <th>ID</th>\n",
       "      <th>ANGER</th>\n",
       "      <th>TIMESTAMP</th>\n",
       "    </tr>\n",
       "  </thead>\n",
       "  <tbody>\n",
       "    <tr>\n",
       "      <th>0</th>\n",
       "      <td>1</td>\n",
       "      <td>0.0</td>\n",
       "      <td>21-01-2017,07:18:33</td>\n",
       "    </tr>\n",
       "    <tr>\n",
       "      <th>1</th>\n",
       "      <td>2</td>\n",
       "      <td>0.0</td>\n",
       "      <td>21-01-2017,07:18:33</td>\n",
       "    </tr>\n",
       "    <tr>\n",
       "      <th>2</th>\n",
       "      <td>3</td>\n",
       "      <td>0.0</td>\n",
       "      <td>21-01-2017,07:18:33</td>\n",
       "    </tr>\n",
       "    <tr>\n",
       "      <th>3</th>\n",
       "      <td>4</td>\n",
       "      <td>0.0</td>\n",
       "      <td>21-01-2017,07:18:34</td>\n",
       "    </tr>\n",
       "    <tr>\n",
       "      <th>4</th>\n",
       "      <td>5</td>\n",
       "      <td>0.0</td>\n",
       "      <td>21-01-2017,07:18:34</td>\n",
       "    </tr>\n",
       "  </tbody>\n",
       "</table>\n",
       "</div>"
      ],
      "text/plain": [
       "   ID  ANGER            TIMESTAMP\n",
       "0   1    0.0  21-01-2017,07:18:33\n",
       "1   2    0.0  21-01-2017,07:18:33\n",
       "2   3    0.0  21-01-2017,07:18:33\n",
       "3   4    0.0  21-01-2017,07:18:34\n",
       "4   5    0.0  21-01-2017,07:18:34"
      ]
     },
     "execution_count": 1,
     "metadata": {},
     "output_type": "execute_result"
    }
   ],
   "source": [
    "import matplotlib as mpl\n",
    "import numpy as np\n",
    "import matplotlib.pyplot as plt\n",
    "# import matplotlib.cbook as cbook\n",
    "import pandas as pd\n",
    "import plotly.plotly as py\n",
    "import plotly.graph_objs as go\n",
    "py.sign_in('Akash__rana', 'hG77i5HTxFyImhc7ft26')\n",
    "import datetime\n",
    "\n",
    "def read_datafile(file_name):\n",
    "    # the skiprows keyword is for heading, but I don't know if trailing lines\n",
    "    # can be specified\n",
    "    data = np.loadtxt(file_name, delimiter=',',skiprows= 0 )\n",
    "    return data\n",
    "\n",
    "data = pd.read_csv('/home/jarvis/Desktop/SQLITE DATABASE/AKASHDB/afect_table_csv.csv')\n",
    "data.head()\n",
    "# x = \n",
    "# y = \n",
    "\n",
    "# fig = plt.figure()\n",
    "\n",
    "# ax1 = fig.add_subplot(111)\n",
    "\n",
    "# ax1.set_title(\"Heartrate vs time\")    \n",
    "# ax1.set_xlabel('time')\n",
    "# ax1.set_ylabel('Heartrate')\n",
    "\n",
    "# ax1.plot(x,y, c='r', label='the data')\n",
    "\n",
    "# leg = ax1.legend()\n",
    "\n",
    "# plt.show()"
   ]
  },
  {
   "cell_type": "code",
   "execution_count": 2,
   "metadata": {
    "collapsed": false
   },
   "outputs": [
    {
     "name": "stdout",
     "output_type": "stream",
     "text": [
      "High five! You successfuly sent some data to your account on plotly. View your plot in your browser at https://plot.ly/~Akash__rana/0 or inside your plot.ly account where it is named 'simple-plot-from-csv'\n"
     ]
    },
    {
     "data": {
      "text/html": [
       "<iframe id=\"igraph\" scrolling=\"no\" style=\"border:none;\" seamless=\"seamless\" src=\"https://plot.ly/~Akash__rana/0.embed\" height=\"525px\" width=\"100%\"></iframe>"
      ],
      "text/plain": [
       "<plotly.tools.PlotlyDisplay object>"
      ]
     },
     "execution_count": 2,
     "metadata": {},
     "output_type": "execute_result"
    }
   ],
   "source": [
    "\n",
    "trace1 = go.Scatter(\n",
    "                    x=data['ID'], y=data['ANGER'], # Data\n",
    "                    mode='lines', name='anger' # Additional options\n",
    "                   )\n",
    "layout = go.Layout(title='Simple Plot of ANGER vs Time',xaxis=dict(title='TimeStamp every 1 seconds'),\n",
    "                   yaxis=dict(title='ANGER'),\n",
    "                   plot_bgcolor='rgb(230, 230,230)')\n",
    "\n",
    "fig = go.Figure(data=[trace1], layout=layout)\n",
    "\n",
    "# Plot data in the notebook\n",
    "py.iplot(fig, filename='simple-plot-from-csv')"
   ]
  },
  {
   "cell_type": "code",
   "execution_count": null,
   "metadata": {
    "collapsed": true
   },
   "outputs": [],
   "source": []
  }
 ],
 "metadata": {
  "anaconda-cloud": {},
  "kernelspec": {
   "display_name": "Python [conda root]",
   "language": "python",
   "name": "conda-root-py"
  },
  "language_info": {
   "codemirror_mode": {
    "name": "ipython",
    "version": 3
   },
   "file_extension": ".py",
   "mimetype": "text/x-python",
   "name": "python",
   "nbconvert_exporter": "python",
   "pygments_lexer": "ipython3",
   "version": "3.5.2"
  }
 },
 "nbformat": 4,
 "nbformat_minor": 1
}
